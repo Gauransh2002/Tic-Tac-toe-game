{
 "cells": [
  {
   "cell_type": "code",
   "execution_count": 1,
   "id": "97d61fe5",
   "metadata": {},
   "outputs": [
    {
     "name": "stdout",
     "output_type": "stream",
     "text": [
      "X|O|X\n",
      "------\n",
      "O|X|O\n",
      "------\n",
      "X|O|X\n"
     ]
    }
   ],
   "source": [
    "from IPython.display import clear_output\n",
    "def display(board):\n",
    "    clear_output()\n",
    "    print(board[7] + '|' + board[8] + '|' + board[9])\n",
    "    print('------')\n",
    "    print(board[4] + '|' + board[5] + '|' + board[6])\n",
    "    print('------')\n",
    "    print(board[1] + '|' + board[2] + '|' + board[3])\n",
    "display(['#','X','O','X','O','X','O','X','O','X'])"
   ]
  },
  {
   "cell_type": "code",
   "execution_count": 11,
   "id": "18122435",
   "metadata": {},
   "outputs": [
    {
     "name": "stdout",
     "output_type": "stream",
     "text": [
      "Choose from 'X' or 'O': O\n"
     ]
    },
    {
     "data": {
      "text/plain": [
       "('O', 'X')"
      ]
     },
     "execution_count": 11,
     "metadata": {},
     "output_type": "execute_result"
    }
   ],
   "source": [
    "def player_input():\n",
    "    player1 = 'wrong'\n",
    "    player2 = ''\n",
    "    while player1 not in ['X','O']:\n",
    "        player1 = input(\"Choose from 'X' or 'O': \")\n",
    "        if player1 not in ['X','O']:\n",
    "            print(\"Choose one from 'X' or 'O'\")\n",
    "            continue\n",
    "        elif player1 == 'X':\n",
    "            player2 = 'O'\n",
    "        elif player1 == 'O':\n",
    "            player2 ='X'\n",
    "    return(player1,player2)\n",
    "player_input()"
   ]
  },
  {
   "cell_type": "code",
   "execution_count": 3,
   "id": "91cbb47c",
   "metadata": {},
   "outputs": [
    {
     "name": "stdout",
     "output_type": "stream",
     "text": [
      "7|8|X\n",
      "------\n",
      "4|5|6\n",
      "------\n",
      "1|2|3\n"
     ]
    }
   ],
   "source": [
    "def place_marker(board,player1,position):\n",
    "    board[position] = player1\n",
    "    display(board)\n",
    "place_marker(['#','1','2','3','4','5','6','7','8','9'],'X',9)    "
   ]
  },
  {
   "cell_type": "code",
   "execution_count": 4,
   "id": "9123551c",
   "metadata": {},
   "outputs": [
    {
     "data": {
      "text/plain": [
       "True"
      ]
     },
     "execution_count": 4,
     "metadata": {},
     "output_type": "execute_result"
    }
   ],
   "source": [
    " def check_win(board,mark):\n",
    "    if board[7]==board[8]==board[9]==mark:\n",
    "        #print(\"Congrats You won!!\")\n",
    "        return True\n",
    "    elif board[4]==board[5]==board[6]==mark:\n",
    "        #print('Congrats you won!!')\n",
    "        return True\n",
    "    elif board[1]==board[2]==board[3]==mark:\n",
    "        #print(\"Congats you won!!\")\n",
    "        return True\n",
    "    elif board[7]==board[4]==board[1]==mark:\n",
    "        #print(\"congats you won\")\n",
    "        return True\n",
    "    elif board[8]==board[5]==board[2]==mark:\n",
    "        #print(\"Congrats you won!!\")\n",
    "        return True\n",
    "    elif board[9]==board[6]==board[3]==mark:\n",
    "        #print(\"Congats you won!!\")\n",
    "        return True\n",
    "    elif board[1]==board[5]==board[9]==mark:\n",
    "        #print(\"Congats you won!!\")\n",
    "        return True\n",
    "    elif board[3]==board[5]==board[7]==mark:\n",
    "       #print(\"Congats you won!!\")\n",
    "        return True\n",
    "    else:\n",
    "        #print(\"Sorry!! you loose\")\n",
    "        return False\n",
    "check_win(['#','X','O','X','O','X','O','X','O','X'],'X')"
   ]
  },
  {
   "cell_type": "code",
   "execution_count": 5,
   "id": "47a32646",
   "metadata": {},
   "outputs": [
    {
     "data": {
      "text/plain": [
       "1"
      ]
     },
     "execution_count": 5,
     "metadata": {},
     "output_type": "execute_result"
    }
   ],
   "source": [
    "import random\n",
    "def choose_first():\n",
    "    choose = random.randint(1,2)\n",
    "    return choose\n",
    "choose_first()"
   ]
  },
  {
   "cell_type": "code",
   "execution_count": 6,
   "id": "161f1a61",
   "metadata": {},
   "outputs": [
    {
     "data": {
      "text/plain": [
       "True"
      ]
     },
     "execution_count": 6,
     "metadata": {},
     "output_type": "execute_result"
    }
   ],
   "source": [
    "def space_check(board,position):\n",
    "    if board[position] != 'X' and board[position] != 'O':\n",
    "        return True\n",
    "    else:\n",
    "        return False\n",
    "space_check(['#','X','O','X','O','X','O','X','O','9'],9)"
   ]
  },
  {
   "cell_type": "code",
   "execution_count": 7,
   "id": "92cba331",
   "metadata": {},
   "outputs": [
    {
     "data": {
      "text/plain": [
       "True"
      ]
     },
     "execution_count": 7,
     "metadata": {},
     "output_type": "execute_result"
    }
   ],
   "source": [
    "def full_board_check(board):\n",
    "    l1=[]\n",
    "    i=1\n",
    "    while(i<=9):\n",
    "        if board[i] != 'X' and board[i] != 'O':\n",
    "            l1.append(board[i])\n",
    "        i = i +1\n",
    "    return len(l1) == 0\n",
    "full_board_check(['#','X','O','X','O','X','O','X','O','X'])"
   ]
  },
  {
   "cell_type": "code",
   "execution_count": 8,
   "id": "fe90cabd",
   "metadata": {},
   "outputs": [
    {
     "name": "stdout",
     "output_type": "stream",
     "text": [
      "Type your next position from 1 to 9: 9\n"
     ]
    },
    {
     "data": {
      "text/plain": [
       "9"
      ]
     },
     "execution_count": 8,
     "metadata": {},
     "output_type": "execute_result"
    }
   ],
   "source": [
    "def player_choice(board):\n",
    "    position = int(input(\"Type your next position from 1 to 9: \"))\n",
    "    check_position = space_check(board,position)\n",
    "    if check_position == True:\n",
    "        return position\n",
    "    else:\n",
    "        print(\"Sorry this space is filled\")\n",
    "player_choice(['#','X','O','X','O','X','O','X','O','9'])"
   ]
  },
  {
   "cell_type": "code",
   "execution_count": 9,
   "id": "59a1f230",
   "metadata": {},
   "outputs": [
    {
     "name": "stdout",
     "output_type": "stream",
     "text": [
      "Type 'Y' to play again or 'N' to not play again: Y\n"
     ]
    },
    {
     "data": {
      "text/plain": [
       "True"
      ]
     },
     "execution_count": 9,
     "metadata": {},
     "output_type": "execute_result"
    }
   ],
   "source": [
    "def replay():\n",
    "    play_again = 'wrong'\n",
    "    while play_again not in ['Y','N']:\n",
    "        play_again = input(\"Type 'Y' to play again or 'N' to not play again: \")\n",
    "        if play_again not in ['Y','N']:\n",
    "            print(\"Choose Y or N\")\n",
    "        elif play_again == 'N':\n",
    "            return False\n",
    "        elif play_again == 'Y':\n",
    "            return True\n",
    "replay()"
   ]
  },
  {
   "cell_type": "code",
   "execution_count": null,
   "id": "d40638ed",
   "metadata": {},
   "outputs": [],
   "source": []
  },
  {
   "cell_type": "code",
   "execution_count": null,
   "id": "8b80966b",
   "metadata": {},
   "outputs": [],
   "source": []
  },
  {
   "cell_type": "code",
   "execution_count": 12,
   "id": "da413ce0",
   "metadata": {},
   "outputs": [
    {
     "name": "stdout",
     "output_type": "stream",
     "text": [
      "7|X|9\n",
      "------\n",
      "O|X|6\n",
      "------\n",
      "O|X|3\n",
      "Player2 won!!\n",
      "Type 'Y' to play again or 'N' to not play again: N\n",
      "Thanks for playing\n"
     ]
    }
   ],
   "source": [
    "print('Welcome to Tic Tac Toe!')\n",
    "while True:\n",
    "    board = ['#','1','2','3','4','5','6','7','8','9']\n",
    "    chance = 0\n",
    "    if choose_first()== 1:\n",
    "        print(\" Player1 chance is first\")\n",
    "        player1, player2 = player_input()\n",
    "        print(f\"Your selected marker is {player1}\")\n",
    "        display(board)\n",
    "        position = player_choice(board)\n",
    "        place_marker(board,player1,position)\n",
    "        display(board)\n",
    "        #game_on = True\n",
    "        chance = 1\n",
    "        pass\n",
    "    elif choose_first() == 2:\n",
    "        print(\" Player2 chance is first\")\n",
    "        print(\"The marker you choose will be for player1\")\n",
    "        player1, player2 = player_input()\n",
    "        print(f\"Your selected marker is {player2}\")\n",
    "        display(board)\n",
    "        position = player_choice(board)\n",
    "        place_marker(board,player2,position)\n",
    "        display(board)\n",
    "        #game_on = True\n",
    "        chance = 2\n",
    "        pass  \n",
    "    win1 = check_win(board,player1)\n",
    "    win2 = check_win(board,player2)\n",
    "    while win1 == False and win2 == False:\n",
    "        if chance == 1:\n",
    "            print(\" Player2 it's your chance\")\n",
    "            position = player_choice(board)\n",
    "            place_marker(board,player2,position)\n",
    "            display(board)\n",
    "            chance = 2\n",
    "            if check_win(board,player1)== True:\n",
    "                print(\"Player1 won!!\")\n",
    "                win1 = True\n",
    "            elif check_win(board,player2) == True:\n",
    "                print(\"Player2 won!!\")\n",
    "                win2 = True\n",
    "        elif chance == 2:\n",
    "            print(\"Player1 it's your chance\")\n",
    "            position = player_choice(board)\n",
    "            place_marker(board,player1,position)\n",
    "            display(board)\n",
    "            chance = 1\n",
    "            if check_win(board,player1)== True:\n",
    "                print(\"Player1 won!!\")\n",
    "                win1 = True\n",
    "            elif check_win(board,player2) == True:\n",
    "                print(\"Player2 won!!\")\n",
    "                win2 = True\n",
    "        else:\n",
    "            print(\"Its an tie!!\")\n",
    "    play = replay()\n",
    "    if play == True:\n",
    "        continue\n",
    "    elif play == False:\n",
    "        print(\"Thanks for playing\")\n",
    "        break"
   ]
  },
  {
   "cell_type": "code",
   "execution_count": null,
   "id": "d1e7f4d9",
   "metadata": {},
   "outputs": [],
   "source": [
    "c = 1\n",
    "d=2\n",
    "while c == 1:\n",
    "    print('hey')\n",
    "    pass\n",
    "    while d == 2:\n",
    "        print('Boy')\n",
    "        d=3\n",
    "    break"
   ]
  },
  {
   "cell_type": "code",
   "execution_count": null,
   "id": "ed327a64",
   "metadata": {},
   "outputs": [],
   "source": []
  },
  {
   "cell_type": "code",
   "execution_count": null,
   "id": "221402f6",
   "metadata": {},
   "outputs": [],
   "source": []
  }
 ],
 "metadata": {
  "kernelspec": {
   "display_name": "Python 3 (ipykernel)",
   "language": "python",
   "name": "python3"
  },
  "language_info": {
   "codemirror_mode": {
    "name": "ipython",
    "version": 3
   },
   "file_extension": ".py",
   "mimetype": "text/x-python",
   "name": "python",
   "nbconvert_exporter": "python",
   "pygments_lexer": "ipython3",
   "version": "3.10.9"
  }
 },
 "nbformat": 4,
 "nbformat_minor": 5
}
